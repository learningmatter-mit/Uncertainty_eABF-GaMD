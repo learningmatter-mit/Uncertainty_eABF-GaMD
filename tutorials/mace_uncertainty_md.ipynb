{
 "cells": [
  {
   "cell_type": "code",
   "execution_count": 1,
   "metadata": {},
   "outputs": [],
   "source": [
    "%load_ext autoreload\n",
    "%autoreload 2"
   ]
  },
  {
   "cell_type": "markdown",
   "metadata": {},
   "source": [
    "# Running uncertainty-biased molecular dynamics with MACE-MP-0"
   ]
  },
  {
   "cell_type": "markdown",
   "metadata": {},
   "source": [
    "## Intro and Setup"
   ]
  },
  {
   "cell_type": "markdown",
   "metadata": {},
   "source": [
    "This notebook illustrates a simple application of the code from this repository using a pre-trained MACE-MP-0 model for uncertainty-biased MD. First, we import some of the required tools and packages and add the `Uncertainty_eABF_GaMD` directory to the system's path."
   ]
  },
  {
   "cell_type": "code",
   "execution_count": 2,
   "metadata": {},
   "outputs": [],
   "source": [
    "import os\n",
    "import sys\n",
    "\n",
    "# add the directory one level up to the path\n",
    "sys.path.append(os.path.abspath(os.path.join(os.getcwd(), os.pardir)))"
   ]
  },
  {
   "cell_type": "code",
   "execution_count": 3,
   "metadata": {},
   "outputs": [
    {
     "data": {
      "application/vnd.jupyter.widget-view+json": {
       "model_id": "025e3633c5884d27a099e97eb99ddb4c",
       "version_major": 2,
       "version_minor": 0
      },
      "text/plain": []
     },
     "metadata": {},
     "output_type": "display_data"
    },
    {
     "name": "stderr",
     "output_type": "stream",
     "text": [
      "/home/ajhoffman/miniforge3/envs/uncertainty/lib/python3.11/site-packages/e3nn/o3/_wigner.py:10: FutureWarning: You are using `torch.load` with `weights_only=False` (the current default value), which uses the default pickle module implicitly. It is possible to construct malicious pickle data which will execute arbitrary code during unpickling (See https://github.com/pytorch/pytorch/blob/main/SECURITY.md#untrusted-models for more details). In a future release, the default value for `weights_only` will be flipped to `True`. This limits the functions that could be executed during unpickling. Arbitrary objects will no longer be allowed to be loaded via this mode unless they are explicitly allowlisted by the user via `torch.serialization.add_safe_globals`. We recommend you start setting `weights_only=True` for any use case where you don't have full control of the loaded file. Please open an issue on GitHub for any issues related to this experimental feature.\n",
      "  _Jd, _W3j_flat, _W3j_indices = torch.load(os.path.join(os.path.dirname(__file__), 'constants.pt'))\n"
     ]
    },
    {
     "name": "stdout",
     "output_type": "stream",
     "text": [
      "/home/ajhoffman/miniforge3/envs/uncertainty/lib/python3.11/site-packages/models\n"
     ]
    }
   ],
   "source": [
    "import copy\n",
    "\n",
    "import matplotlib.pyplot as plt\n",
    "import nglview\n",
    "import numpy as np\n",
    "from ase.io.trajectory import Trajectory\n",
    "from ase.visualize import ngl\n",
    "from mace.calculators import mace_mp\n",
    "from nff.io.ase import AtomsBatch\n",
    "from nff.md.nvt import Langevin\n",
    "from nff.md.utils import BiasedNeuralMDLogger\n",
    "\n",
    "from eabfgamd.mace_calculators import aMDeABF\n",
    "from eabfgamd.misc import load_from_xyz\n",
    "\n",
    "plt.style.use(\"seaborn-v0_8\")\n",
    "plt.rcParams[\"figure.dpi\"] = 150\n",
    "\n",
    "# DEVICE = \"cuda\" if torch.cuda.is_available() else \"cpu\"\n",
    "DEVICE = \"cpu\""
   ]
  },
  {
   "cell_type": "markdown",
   "metadata": {},
   "source": [
    "For this tutorial, we're going to use the smallest version of the pre-trained MACE-MP-0 models. In this case, we need a stable machine-learned interatomic potential (MLIP) from which we can quickly compile latent representations for a structure from which we can estimate uncertainties for a given arrangement of atoms. The bulk of this repository is also structured around the latent representations of the MACE model; as such, the small model is appropriate (and sufficiently fast) for our test here."
   ]
  },
  {
   "cell_type": "code",
   "execution_count": 4,
   "metadata": {},
   "outputs": [
    {
     "data": {
      "text/plain": [
       "['Solarize_Light2',\n",
       " '_classic_test_patch',\n",
       " '_mpl-gallery',\n",
       " '_mpl-gallery-nogrid',\n",
       " 'bmh',\n",
       " 'classic',\n",
       " 'dark_background',\n",
       " 'fast',\n",
       " 'fivethirtyeight',\n",
       " 'ggplot',\n",
       " 'grayscale',\n",
       " 'petroff10',\n",
       " 'seaborn-v0_8',\n",
       " 'seaborn-v0_8-bright',\n",
       " 'seaborn-v0_8-colorblind',\n",
       " 'seaborn-v0_8-dark',\n",
       " 'seaborn-v0_8-dark-palette',\n",
       " 'seaborn-v0_8-darkgrid',\n",
       " 'seaborn-v0_8-deep',\n",
       " 'seaborn-v0_8-muted',\n",
       " 'seaborn-v0_8-notebook',\n",
       " 'seaborn-v0_8-paper',\n",
       " 'seaborn-v0_8-pastel',\n",
       " 'seaborn-v0_8-poster',\n",
       " 'seaborn-v0_8-talk',\n",
       " 'seaborn-v0_8-ticks',\n",
       " 'seaborn-v0_8-white',\n",
       " 'seaborn-v0_8-whitegrid',\n",
       " 'tableau-colorblind10']"
      ]
     },
     "execution_count": 4,
     "metadata": {},
     "output_type": "execute_result"
    }
   ],
   "source": [
    "plt.style.available"
   ]
  },
  {
   "cell_type": "code",
   "execution_count": 5,
   "metadata": {},
   "outputs": [
    {
     "name": "stderr",
     "output_type": "stream",
     "text": [
      "2025-05-01 15:51:04,244|INFO|Using CPU\n"
     ]
    },
    {
     "name": "stdout",
     "output_type": "stream",
     "text": [
      "Using Materials Project MACE for MACECalculator with /home/ajhoffman/.cache/mace/20231210mace128L0_energy_epoch249model\n",
      "Using float32 for MACECalculator, which is faster but less accurate. Recommended for MD. Use float64 for geometry optimization.\n",
      "Default dtype float32 does not match model dtype float64, converting models to float32.\n"
     ]
    }
   ],
   "source": [
    "macecalc = mace_mp(\"small\", device=DEVICE)\n",
    "model = macecalc.models[0]\n",
    "model = model.to(DEVICE)"
   ]
  },
  {
   "cell_type": "markdown",
   "metadata": {},
   "source": [
    "The structures in this tutorial are derived from studies of aluminum siting in zeolites in the G&oacute;mez-Bombarelli group. We have downselected 200 structures and put them into \"training\", \"validation\", and \"test\" sets; however, these classifications are spurious, as the pre-trained model has not been exposed to any of these datapoints before. Instead, we are using these only to illustrate how a user might use these approaches with a given dataset to sample new structures."
   ]
  },
  {
   "cell_type": "code",
   "execution_count": 6,
   "metadata": {},
   "outputs": [],
   "source": [
    "# Load the data from the data directory in this tutorials folder\n",
    "base_path = \"data\"\n",
    "train_path = os.path.join(base_path, \"train_atoms_list.xyz\")\n",
    "val_path = os.path.join(base_path, \"val_atoms_list.xyz\")\n",
    "test_path = os.path.join(base_path, \"test_atoms_list.xyz\")\n",
    "train_atoms = load_from_xyz(train_path)\n",
    "val_atoms = load_from_xyz(val_path)\n",
    "test_atoms = load_from_xyz(test_path)"
   ]
  },
  {
   "cell_type": "code",
   "execution_count": 7,
   "metadata": {},
   "outputs": [
    {
     "data": {
      "text/plain": [
       "(160, 20, 20)"
      ]
     },
     "execution_count": 7,
     "metadata": {},
     "output_type": "execute_result"
    }
   ],
   "source": [
    "len(train_atoms), len(val_atoms), len(test_atoms)"
   ]
  },
  {
   "cell_type": "markdown",
   "metadata": {},
   "source": [
    "## Setting up the MD run"
   ]
  },
  {
   "cell_type": "markdown",
   "metadata": {},
   "source": [
    "Next, we set up a short MD run based on the calculator and structures grabbed above. We set up a `dict` with information for the MD run. Many of these variables are specified already in [our manuscript](https://doi.org/10.1063/5.0246178) on biasing MD simulations with uncertainty. We believe that many of the items in the dictionary below are self-explanatory (such as the `model` item near the top and the `dset` values near the bottom). The remainder are:\n",
    "- `\"uncertainty_type\"`: the type of uncertainty that you wish to use; we _strongly_ recommend `\"gmm\"` for Gaussian mixture models, which are [effective single-model uncertainty methods]() that are useful for test cases outlined in this work.\n",
    "- `\"uncertainty_params\"`: additional parameters for the uncertainty metrics, particularly\n",
    "    - `\"calibrate\"`: whether or not to calibrate the uncertainty using the conformal prediction method included in [AmpTorch](https://github.com/ulissigroup/amptorch), which is mentioned in [their attendant publication](https://joss.theoj.org/papers/10.21105/joss.05035) and as a UQ method in [work from the Medford group](https://iopscience.iop.org/article/10.1088/2632-2153/aca7b1). Calibration is extremely helpful for ensuring that the values of the uncertainty estimates from the GMM model remain near consistent and reasonable values&mdash;that is, O(10<sup>&minus;1</sup>)-O(10<sup>+1</sup>).\n",
    "    - `\"cp_alpha\"`: the &alpha; value used for the conformal prediction (see above papers).\n",
    "    - `\"order\"`: the level at which uncertainty is calculated, the options of which are listed in [the `uncertainty.py` module](https://github.com/learningmatter-mit/Uncertainty_eABF-GaMD/blob/main/eabfgamd/uncertainty.py)."
   ]
  },
  {
   "cell_type": "code",
   "execution_count": 8,
   "metadata": {},
   "outputs": [],
   "source": [
    "info_dict = {\n",
    "    \"type\": \"uncertainty\",\n",
    "    \"model\": model,\n",
    "    \"uncertainty_type\": \"gmm\",\n",
    "    \"uncertainty_params\": {\n",
    "        \"calibrate\": True,\n",
    "        \"cp_alpha\": 0.05,\n",
    "        \"n_components\": 5,\n",
    "        \"covariance_type\": \"full\",\n",
    "        \"type\": \"gmm\",\n",
    "        \"embedding_kwargs\": {\n",
    "            \"n_rff\": 1000,\n",
    "            \"learnable\": False,\n",
    "            \"n_hidden\": 2,\n",
    "            \"n_units\": 100,\n",
    "            \"activation\": \"swish\",\n",
    "            \"dropout\": 0.0,\n",
    "        },\n",
    "        \"quantity\": \"energy_grad\",\n",
    "        \"order\": \"local_mean_system_max\",\n",
    "        \"set_min_uncertainty_at_level\": \"local\",\n",
    "    },\n",
    "    \"device\": DEVICE,\n",
    "    \"batch_size\": 4,\n",
    "    \"train_dset\": train_atoms,\n",
    "    \"calib_dset\": val_atoms,\n",
    "    \"test_dset\": test_atoms,\n",
    "}\n"
   ]
  },
  {
   "cell_type": "markdown",
   "metadata": {},
   "source": [
    "For the sake of this exercise, let's simply grab an `Atoms` object from the validation set and run MD on that structure. Typically, you would want to optimize a structure before doing these MD simulations. We will forgo that step here."
   ]
  },
  {
   "cell_type": "code",
   "execution_count": 9,
   "metadata": {},
   "outputs": [],
   "source": [
    "atoms = copy.deepcopy(val_atoms[0])"
   ]
  },
  {
   "cell_type": "code",
   "execution_count": 10,
   "metadata": {},
   "outputs": [],
   "source": [
    "atoms = AtomsBatch.from_atoms(atoms, device=DEVICE)"
   ]
  },
  {
   "cell_type": "markdown",
   "metadata": {},
   "source": [
    "The values of the uncertainty biasing CV will depend on how the uncertainty is calculated: uncertainty can be calculated locally or system-wide, either using a mean or sum of the uncertainties, etc. The choice of minimum and maximum value in this cell is based on values that have worked for silica simulations in the `configs/silica.yaml` file that were used in the [paper from our group](https://doi.org/10.1063/5.0246178)."
   ]
  },
  {
   "cell_type": "code",
   "execution_count": 11,
   "metadata": {},
   "outputs": [],
   "source": [
    "min_val = -30.0\n",
    "max_val = 30.0"
   ]
  },
  {
   "cell_type": "code",
   "execution_count": null,
   "metadata": {},
   "outputs": [],
   "source": [
    "# TODO: need to add more information for the cv_info dictionary\n",
    "\n",
    "cv_info = {\n",
    "    \"barostat_mask\": 1,\n",
    "    \"bin_width\": 0.1,\n",
    "    \"collect_pot_samples\": True,\n",
    "    \"md_ensemble\": \"nvt\",\n",
    "    \"md_ensemble_params\": {\n",
    "        \"temperature\": 300,\n",
    "        \"timestep\": 1.0,\n",
    "        \"friction\": 0.1,\n",
    "    },\n",
    "    \"ext_mass\": 500.0,\n",
    "    \"ext_sigma\": 1.0,\n",
    "    \"ext_width\": 0.5,\n",
    "    \"conf_k\": 10.0,\n",
    "    \"factor\": {\n",
    "        \"ext_mass\": 1.0,\n",
    "        \"ext_sigma\": 0.9,\n",
    "        \"nsteps\": 1.2,\n",
    "        \"sampling_llim\": 0.9,\n",
    "        \"time_width\": 2.5,\n",
    "    },\n",
    "    \"nsteps\": 100,\n",
    "    \"save_dir\": \"uncertainty\",\n",
    "    \"sampling_method\": \"latent_embedding\",\n",
    "    \"sampling_llim\": 0.75,\n",
    "    \"sampling_llim_quantile\": 0.75,\n",
    "    \"samd_c0\": 0.0001,\n",
    "    \"T_init\": 300,\n",
    "    \"unphysical_emax\": 10000.0,\n",
    "    \"unphysical_emin\": -10000.0,\n",
    "    \"ext_pos\": None,\n",
    "}"
   ]
  },
  {
   "cell_type": "code",
   "execution_count": 16,
   "metadata": {},
   "outputs": [],
   "source": [
    "cv_defs = [\n",
    "    {\n",
    "        \"definition\": info_dict,\n",
    "        \"range\": [min_val, max_val],\n",
    "        \"type\": \"uncertainty\",\n",
    "        **cv_info,\n",
    "    }\n",
    "]\n",
    "\n",
    "my_dt = 1.0  # fs\n",
    "my_temp = 300  # K\n",
    "my_friction = 1.0\n",
    "logfile = \"eABF_ext.log\""
   ]
  },
  {
   "cell_type": "code",
   "execution_count": null,
   "metadata": {},
   "outputs": [
    {
     "name": "stderr",
     "output_type": "stream",
     "text": [
      "2025-05-01 13:46:44,423|INFO|Using CPU\n"
     ]
    },
    {
     "name": "stdout",
     "output_type": "stream",
     "text": [
      "Are any atoms positions NaN? False\n",
      "COLVAR: Doing train prediction\n"
     ]
    },
    {
     "name": "stderr",
     "output_type": "stream",
     "text": [
      "100%|██████████| 40/40 [01:07<00:00,  1.68s/it]\n",
      "100%|██████████| 160/160 [00:00<00:00, 1040447.50it/s]\n"
     ]
    },
    {
     "name": "stdout",
     "output_type": "stream",
     "text": [
      "COLVAR: Fitting GMM\n",
      "COLVAR: Fitting ConformalPrediction\n"
     ]
    },
    {
     "name": "stderr",
     "output_type": "stream",
     "text": [
      "100%|██████████| 5/5 [00:08<00:00,  1.76s/it]\n",
      "100%|██████████| 20/20 [00:00<00:00, 427990.20it/s]\n"
     ]
    },
    {
     "name": "stdout",
     "output_type": "stream",
     "text": [
      "COLVAR: Setting min_uncertainty to -1218.5716079844226\n",
      "No prediction provided, generating one...\n"
     ]
    },
    {
     "name": "stderr",
     "output_type": "stream",
     "text": [
      "100%|██████████| 1/1 [00:00<00:00,  2.99it/s]\n",
      "100%|██████████| 1/1 [00:00<00:00, 18724.57it/s]\n"
     ]
    },
    {
     "name": "stdout",
     "output_type": "stream",
     "text": [
      "THE RANDOM NUMBER SEED WAS: 1581724688\n",
      "THE RANDOM NUMBER SEED WAS: 3557087345\n"
     ]
    },
    {
     "name": "stderr",
     "output_type": "stream",
     "text": [
      "100%|██████████| 10/10 [11:31<00:00, 69.12s/it]\n"
     ]
    }
   ],
   "source": [
    "# TODO: need to add more information for the calculator and dynamics classes\n",
    "# and how they are supposed to be called and used in this example\n",
    "\n",
    "# set the calculator, which is the BiasBase class\n",
    "calculator = aMDeABF(\n",
    "    model_path=model,\n",
    "    cv_defs=cv_defs,\n",
    "    starting_atoms=atoms,\n",
    "    dt=my_dt,\n",
    "    friction_per_ps=my_friction,\n",
    "    amd_parameter=0.01,\n",
    "    collect_pot_samples=True,\n",
    "    estimate_k=True,\n",
    "    apply_amd=True,\n",
    "    amd_method=\"gamd_upper\",\n",
    "    samd_c0=0.0001,\n",
    "    equil_temp=my_temp,\n",
    "    nfull=50,\n",
    "    directed=True,\n",
    "    device=DEVICE,\n",
    ")\n",
    "atoms.set_calculator(calculator)\n",
    "\n",
    "dyn = Langevin(\n",
    "    atoms,\n",
    "    timestep=my_dt,\n",
    "    temperature=my_temp,\n",
    "    friction=my_friction,\n",
    "    maxwell_temp=my_temp,\n",
    "    logfile=logfile,\n",
    "    trajectory=\"eABF_ext.traj\",\n",
    "    # max_steps=10,\n",
    "    # steps=10,\n",
    ")\n",
    "dyn.attach(BiasedNeuralMDLogger(dyn, atoms, logfile, header=True, mode=\"w\"), interval=2)\n",
    "\n",
    "print(\"THE RANDOM NUMBER SEED WAS:\", np.random.get_state()[1][0])\n",
    "\n",
    "dyn.run(steps=200)"
   ]
  },
  {
   "cell_type": "markdown",
   "metadata": {},
   "source": [
    "Let's briefly check what the structures from the simulation look like.\n",
    "\n",
    "**Note**: your ASE installation should have installed `nglview`, which we use here to check the trajectory. If you have issues getting `nglview` to work in your notebook, please check their [GitHub repository](https://github.com/nglviewer/nglview) for up-to-date information and help debugging."
   ]
  },
  {
   "cell_type": "code",
   "execution_count": 13,
   "metadata": {},
   "outputs": [],
   "source": [
    "traj = Trajectory(\"eABF_ext.traj\", \"r\")"
   ]
  },
  {
   "cell_type": "code",
   "execution_count": 19,
   "metadata": {},
   "outputs": [
    {
     "data": {
      "application/vnd.jupyter.widget-view+json": {
       "model_id": "beeee43707d641aa93915fd402113d6e",
       "version_major": 2,
       "version_minor": 0
      },
      "text/plain": [
       "NGLWidget(max_frame=200)"
      ]
     },
     "metadata": {},
     "output_type": "display_data"
    }
   ],
   "source": [
    "# Visualize the trajectory using nglview\n",
    "view = nglview.show_asetraj(traj)\n",
    "view.add_unitcell()\n",
    "view"
   ]
  },
  {
   "cell_type": "markdown",
   "metadata": {},
   "source": [
    "Let's extract the values of different relevant values from the log file and quickly plot them."
   ]
  },
  {
   "cell_type": "code",
   "execution_count": 17,
   "metadata": {},
   "outputs": [],
   "source": [
    "log = np.loadtxt(logfile, skiprows=1)\n",
    "times = log[:, 0]\n",
    "biased_ens = log[:, 1]\n",
    "unbiased_ens = log[:, 2]\n",
    "cv_val = log[:, 4]"
   ]
  },
  {
   "cell_type": "code",
   "execution_count": 18,
   "metadata": {},
   "outputs": [
    {
     "data": {
      "image/png": "[encoded data removed]",
      "text/plain": [
       "<Figure size 600x900 with 3 Axes>"
      ]
     },
     "metadata": {},
     "output_type": "display_data"
    }
   ],
   "source": [
    "# plot the energies of the trajectory\n",
    "fig, ax = plt.subplots(3, 1, figsize=(4, 6))\n",
    "\n",
    "# show the\n",
    "ax[0].plot(times, unbiased_ens, label=\"Unbiased Energy\")\n",
    "ax[0].plot(times, biased_ens, label=\"Biased Energy\")\n",
    "ax[0].set_xlabel(\"Time / fs\", fontweight=\"bold\", fontsize=10)\n",
    "ax[0].set_ylabel(\"Energy / eV\", fontweight=\"bold\", fontsize=10)\n",
    "ax[0].legend(loc=\"upper left\", fontsize=8)\n",
    "\n",
    "ax[1].plot(times, cv_val, label=\"CV\", color=\"orange\")\n",
    "ax[1].set_xlabel(\"Time / fs\", fontweight=\"bold\", fontsize=10)\n",
    "ax[1].set_ylabel(\"CV\", fontweight=\"bold\", fontsize=10)\n",
    "\n",
    "ax[2].scatter(cv_val, biased_ens - unbiased_ens, label=\"Bias from CV\", color=\"purple\")\n",
    "ax[2].set_xlabel(\"CV\", fontweight=\"bold\", fontsize=10)\n",
    "ax[2].set_ylabel(\"Bias / eV\", fontweight=\"bold\", fontsize=10)\n",
    "fig.tight_layout()\n",
    "plt.show()"
   ]
  }
 ],
 "metadata": {
  "kernelspec": {
   "display_name": "uncertainty",
   "language": "python",
   "name": "python3"
  },
  "language_info": {
   "codemirror_mode": {
    "name": "ipython",
    "version": 3
   },
   "file_extension": ".py",
   "mimetype": "text/x-python",
   "name": "python",
   "nbconvert_exporter": "python",
   "pygments_lexer": "ipython3",
   "version": "3.11.0"
  }
 },
 "nbformat": 4,
 "nbformat_minor": 2
}
